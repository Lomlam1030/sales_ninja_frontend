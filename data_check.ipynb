{
 "cells": [
  {
   "cell_type": "code",
   "execution_count": 14,
   "id": "533468cb-c081-4ab9-b41a-fe2b79c652e9",
   "metadata": {
    "execution": {
     "iopub.execute_input": "2025-06-08T08:52:04.376656Z",
     "iopub.status.busy": "2025-06-08T08:52:04.376129Z",
     "iopub.status.idle": "2025-06-08T08:52:17.684309Z",
     "shell.execute_reply": "2025-06-08T08:52:17.683323Z",
     "shell.execute_reply.started": "2025-06-08T08:52:04.376625Z"
    }
   },
   "outputs": [
    {
     "name": "stdout",
     "output_type": "stream",
     "text": [
      "Index([], dtype='object')\n"
     ]
    }
   ],
   "source": [
    "import pandas as pd\n",
    "\n",
    "df = pd.read_csv(\"data/data_dashboard_final.csv\")\n",
    "print(df.columns[df.columns.duplicated()])"
   ]
  },
  {
   "cell_type": "code",
   "execution_count": 15,
   "id": "43b55b6b-1bec-4822-98fa-002b2b09ec05",
   "metadata": {
    "execution": {
     "iopub.execute_input": "2025-06-08T08:52:17.687085Z",
     "iopub.status.busy": "2025-06-08T08:52:17.686422Z",
     "iopub.status.idle": "2025-06-08T08:52:17.711015Z",
     "shell.execute_reply": "2025-06-08T08:52:17.709868Z",
     "shell.execute_reply.started": "2025-06-08T08:52:17.687065Z"
    }
   },
   "outputs": [
    {
     "data": {
      "text/html": [
       "<div>\n",
       "<style scoped>\n",
       "    .dataframe tbody tr th:only-of-type {\n",
       "        vertical-align: middle;\n",
       "    }\n",
       "\n",
       "    .dataframe tbody tr th {\n",
       "        vertical-align: top;\n",
       "    }\n",
       "\n",
       "    .dataframe thead th {\n",
       "        text-align: right;\n",
       "    }\n",
       "</style>\n",
       "<table border=\"1\" class=\"dataframe\">\n",
       "  <thead>\n",
       "    <tr style=\"text-align: right;\">\n",
       "      <th></th>\n",
       "      <th>SalesKey</th>\n",
       "      <th>DateKey</th>\n",
       "      <th>ChannelKey</th>\n",
       "      <th>StoreKey</th>\n",
       "      <th>ProductKey</th>\n",
       "      <th>PromotionKey</th>\n",
       "      <th>UnitCost</th>\n",
       "      <th>UnitPrice</th>\n",
       "      <th>SalesQuantity</th>\n",
       "      <th>ReturnQuantity</th>\n",
       "      <th>...</th>\n",
       "      <th>ProductName</th>\n",
       "      <th>ProductSubcategoryKey</th>\n",
       "      <th>ProductSubcategoryName</th>\n",
       "      <th>ProductCategoryKey</th>\n",
       "      <th>ProductCategoryName</th>\n",
       "      <th>GeographyKey</th>\n",
       "      <th>StoreType</th>\n",
       "      <th>StoreName</th>\n",
       "      <th>ContinentName</th>\n",
       "      <th>CalendarWeekLabel</th>\n",
       "    </tr>\n",
       "  </thead>\n",
       "  <tbody>\n",
       "    <tr>\n",
       "      <th>0</th>\n",
       "      <td>1</td>\n",
       "      <td>2007-01-02</td>\n",
       "      <td>1</td>\n",
       "      <td>209</td>\n",
       "      <td>956</td>\n",
       "      <td>10</td>\n",
       "      <td>91.05</td>\n",
       "      <td>198.0</td>\n",
       "      <td>8</td>\n",
       "      <td>0</td>\n",
       "      <td>...</td>\n",
       "      <td>A. Datum Point Shoot Digital Camera M500 Black</td>\n",
       "      <td>23.0</td>\n",
       "      <td>Digital Cameras</td>\n",
       "      <td>4.0</td>\n",
       "      <td>Cameras and camcorders</td>\n",
       "      <td>738</td>\n",
       "      <td>Store</td>\n",
       "      <td>Contoso Baildon Store</td>\n",
       "      <td>Europe</td>\n",
       "      <td>Week 1</td>\n",
       "    </tr>\n",
       "    <tr>\n",
       "      <th>1</th>\n",
       "      <td>2</td>\n",
       "      <td>2007-02-12</td>\n",
       "      <td>4</td>\n",
       "      <td>308</td>\n",
       "      <td>766</td>\n",
       "      <td>2</td>\n",
       "      <td>10.15</td>\n",
       "      <td>19.9</td>\n",
       "      <td>4</td>\n",
       "      <td>0</td>\n",
       "      <td>...</td>\n",
       "      <td>Contoso Battery charger - bike E200 Black</td>\n",
       "      <td>22.0</td>\n",
       "      <td>Computers Accessories</td>\n",
       "      <td>3.0</td>\n",
       "      <td>Computers</td>\n",
       "      <td>693</td>\n",
       "      <td>Reseller</td>\n",
       "      <td>Contoso North America Reseller</td>\n",
       "      <td>North America</td>\n",
       "      <td>Week 7</td>\n",
       "    </tr>\n",
       "    <tr>\n",
       "      <th>2</th>\n",
       "      <td>3</td>\n",
       "      <td>2008-01-24</td>\n",
       "      <td>1</td>\n",
       "      <td>156</td>\n",
       "      <td>1175</td>\n",
       "      <td>11</td>\n",
       "      <td>209.03</td>\n",
       "      <td>410.0</td>\n",
       "      <td>9</td>\n",
       "      <td>0</td>\n",
       "      <td>...</td>\n",
       "      <td>Fabrikam Budget Moviemaker 2/3'' 17mm E100 White</td>\n",
       "      <td>27.0</td>\n",
       "      <td>Camcorders</td>\n",
       "      <td>4.0</td>\n",
       "      <td>Cameras and camcorders</td>\n",
       "      <td>449</td>\n",
       "      <td>Store</td>\n",
       "      <td>Contoso Cambridge Store</td>\n",
       "      <td>Europe</td>\n",
       "      <td>Week 4</td>\n",
       "    </tr>\n",
       "    <tr>\n",
       "      <th>3</th>\n",
       "      <td>4</td>\n",
       "      <td>2008-01-13</td>\n",
       "      <td>2</td>\n",
       "      <td>306</td>\n",
       "      <td>1429</td>\n",
       "      <td>10</td>\n",
       "      <td>132.90</td>\n",
       "      <td>289.0</td>\n",
       "      <td>8</td>\n",
       "      <td>0</td>\n",
       "      <td>...</td>\n",
       "      <td>The Phone Company Touch Screen Phones 4-Wire/O...</td>\n",
       "      <td>31.0</td>\n",
       "      <td>Touch Screen Phones</td>\n",
       "      <td>5.0</td>\n",
       "      <td>Cell phones</td>\n",
       "      <td>586</td>\n",
       "      <td>Online</td>\n",
       "      <td>Contoso Europe Online Store</td>\n",
       "      <td>Europe</td>\n",
       "      <td>Week 3</td>\n",
       "    </tr>\n",
       "    <tr>\n",
       "      <th>4</th>\n",
       "      <td>5</td>\n",
       "      <td>2008-01-22</td>\n",
       "      <td>2</td>\n",
       "      <td>306</td>\n",
       "      <td>1133</td>\n",
       "      <td>10</td>\n",
       "      <td>144.52</td>\n",
       "      <td>436.2</td>\n",
       "      <td>24</td>\n",
       "      <td>0</td>\n",
       "      <td>...</td>\n",
       "      <td>Fabrikam SLR Camera 35\" X358 Blue</td>\n",
       "      <td>24.0</td>\n",
       "      <td>Digital SLR Cameras</td>\n",
       "      <td>4.0</td>\n",
       "      <td>Cameras and camcorders</td>\n",
       "      <td>586</td>\n",
       "      <td>Online</td>\n",
       "      <td>Contoso Europe Online Store</td>\n",
       "      <td>Europe</td>\n",
       "      <td>Week 4</td>\n",
       "    </tr>\n",
       "  </tbody>\n",
       "</table>\n",
       "<p>5 rows × 34 columns</p>\n",
       "</div>"
      ],
      "text/plain": [
       "   SalesKey     DateKey  ChannelKey  StoreKey  ProductKey  PromotionKey  \\\n",
       "0         1  2007-01-02           1       209         956            10   \n",
       "1         2  2007-02-12           4       308         766             2   \n",
       "2         3  2008-01-24           1       156        1175            11   \n",
       "3         4  2008-01-13           2       306        1429            10   \n",
       "4         5  2008-01-22           2       306        1133            10   \n",
       "\n",
       "   UnitCost  UnitPrice  SalesQuantity  ReturnQuantity  ...  \\\n",
       "0     91.05      198.0              8               0  ...   \n",
       "1     10.15       19.9              4               0  ...   \n",
       "2    209.03      410.0              9               0  ...   \n",
       "3    132.90      289.0              8               0  ...   \n",
       "4    144.52      436.2             24               0  ...   \n",
       "\n",
       "                                         ProductName  ProductSubcategoryKey  \\\n",
       "0     A. Datum Point Shoot Digital Camera M500 Black                   23.0   \n",
       "1          Contoso Battery charger - bike E200 Black                   22.0   \n",
       "2   Fabrikam Budget Moviemaker 2/3'' 17mm E100 White                   27.0   \n",
       "3  The Phone Company Touch Screen Phones 4-Wire/O...                   31.0   \n",
       "4                  Fabrikam SLR Camera 35\" X358 Blue                   24.0   \n",
       "\n",
       "   ProductSubcategoryName  ProductCategoryKey      ProductCategoryName  \\\n",
       "0         Digital Cameras                 4.0  Cameras and camcorders    \n",
       "1   Computers Accessories                 3.0                Computers   \n",
       "2              Camcorders                 4.0  Cameras and camcorders    \n",
       "3    Touch Screen Phones                  5.0              Cell phones   \n",
       "4     Digital SLR Cameras                 4.0  Cameras and camcorders    \n",
       "\n",
       "  GeographyKey StoreType                       StoreName  ContinentName  \\\n",
       "0          738     Store           Contoso Baildon Store         Europe   \n",
       "1          693  Reseller  Contoso North America Reseller  North America   \n",
       "2          449     Store         Contoso Cambridge Store         Europe   \n",
       "3          586    Online     Contoso Europe Online Store         Europe   \n",
       "4          586    Online     Contoso Europe Online Store         Europe   \n",
       "\n",
       "  CalendarWeekLabel  \n",
       "0            Week 1  \n",
       "1            Week 7  \n",
       "2            Week 4  \n",
       "3            Week 3  \n",
       "4            Week 4  \n",
       "\n",
       "[5 rows x 34 columns]"
      ]
     },
     "execution_count": 15,
     "metadata": {},
     "output_type": "execute_result"
    }
   ],
   "source": [
    "df.head()\n"
   ]
  },
  {
   "cell_type": "code",
   "execution_count": 16,
   "id": "94f7762b-1851-4fa2-a950-970161d5ddc5",
   "metadata": {
    "execution": {
     "iopub.execute_input": "2025-06-08T08:53:07.610938Z",
     "iopub.status.busy": "2025-06-08T08:53:07.609468Z",
     "iopub.status.idle": "2025-06-08T08:53:07.623813Z",
     "shell.execute_reply": "2025-06-08T08:53:07.621839Z",
     "shell.execute_reply.started": "2025-06-08T08:53:07.610901Z"
    }
   },
   "outputs": [
    {
     "name": "stdout",
     "output_type": "stream",
     "text": [
      "Index([], dtype='object')\n"
     ]
    }
   ],
   "source": [
    "print(df.columns[df.columns.duplicated()])\n"
   ]
  },
  {
   "cell_type": "code",
   "execution_count": 18,
   "id": "e0d7133f-7d69-4154-ad6f-3f9604275147",
   "metadata": {
    "execution": {
     "iopub.execute_input": "2025-06-08T08:54:08.014203Z",
     "iopub.status.busy": "2025-06-08T08:54:08.013228Z",
     "iopub.status.idle": "2025-06-08T08:54:08.024655Z",
     "shell.execute_reply": "2025-06-08T08:54:08.022754Z",
     "shell.execute_reply.started": "2025-06-08T08:54:08.014169Z"
    }
   },
   "outputs": [
    {
     "data": {
      "text/plain": [
       "Index(['SalesKey', 'DateKey', 'ChannelKey', 'StoreKey', 'ProductKey',\n",
       "       'PromotionKey', 'UnitCost', 'UnitPrice', 'SalesQuantity',\n",
       "       'ReturnQuantity', 'ReturnAmount', 'DiscountQuantity', 'DiscountAmount',\n",
       "       'TotalCost', 'SalesAmount', 'ChannelName', 'PromotionName',\n",
       "       'PromotionType', 'CalendarYear', 'CalendarQuarterLabel',\n",
       "       'CalendarMonthLabel', 'CalendarDayOfWeekLabel', 'MonthNumber',\n",
       "       'CalendarDayOfWeekNumber', 'ProductName', 'ProductSubcategoryKey',\n",
       "       'ProductSubcategoryName', 'ProductCategoryKey', 'ProductCategoryName',\n",
       "       'GeographyKey', 'StoreType', 'StoreName', 'ContinentName',\n",
       "       'CalendarWeekLabel'],\n",
       "      dtype='object')"
      ]
     },
     "execution_count": 18,
     "metadata": {},
     "output_type": "execute_result"
    }
   ],
   "source": [
    "df.columns"
   ]
  },
  {
   "cell_type": "code",
   "execution_count": 19,
   "id": "8d945fa0-bada-415f-b1ec-c4c92a9f2f9c",
   "metadata": {
    "execution": {
     "iopub.execute_input": "2025-06-08T08:54:10.855725Z",
     "iopub.status.busy": "2025-06-08T08:54:10.854644Z",
     "iopub.status.idle": "2025-06-08T08:54:10.881477Z",
     "shell.execute_reply": "2025-06-08T08:54:10.879057Z",
     "shell.execute_reply.started": "2025-06-08T08:54:10.855690Z"
    }
   },
   "outputs": [],
   "source": [
    "#df_date = pd.read_csv(\"data/DimDate.csv\") \n",
    "df_geo =  pd.read_csv(\"data/DimGeography.csv\") "
   ]
  },
  {
   "cell_type": "code",
   "execution_count": 20,
   "id": "03f39406-2836-43cc-a5e9-61763df3a4cf",
   "metadata": {
    "execution": {
     "iopub.execute_input": "2025-06-08T08:54:11.985577Z",
     "iopub.status.busy": "2025-06-08T08:54:11.983907Z",
     "iopub.status.idle": "2025-06-08T08:54:11.994480Z",
     "shell.execute_reply": "2025-06-08T08:54:11.993387Z",
     "shell.execute_reply.started": "2025-06-08T08:54:11.985520Z"
    }
   },
   "outputs": [
    {
     "data": {
      "text/plain": [
       "Index(['GeographyKey', 'GeographyType', 'ContinentName', 'CityName',\n",
       "       'StateProvinceName', 'RegionCountryName'],\n",
       "      dtype='object')"
      ]
     },
     "execution_count": 20,
     "metadata": {},
     "output_type": "execute_result"
    }
   ],
   "source": [
    "#df_date.columns\n",
    "df_geo.columns"
   ]
  },
  {
   "cell_type": "code",
   "execution_count": 21,
   "id": "37a6f0cb-c515-40d4-b75e-20af0d6803ec",
   "metadata": {
    "execution": {
     "iopub.execute_input": "2025-06-08T08:54:17.737579Z",
     "iopub.status.busy": "2025-06-08T08:54:17.736704Z",
     "iopub.status.idle": "2025-06-08T08:54:19.090599Z",
     "shell.execute_reply": "2025-06-08T08:54:19.088516Z",
     "shell.execute_reply.started": "2025-06-08T08:54:17.737547Z"
    }
   },
   "outputs": [],
   "source": [
    "df_merged = df.merge(\n",
    "    df_geo[['GeographyKey', 'RegionCountryName']],\n",
    "    on='GeographyKey',\n",
    "    how='left'\n",
    ")"
   ]
  },
  {
   "cell_type": "code",
   "execution_count": 23,
   "id": "a893ddb9-82c6-4d1b-baf6-124e58f5d93f",
   "metadata": {
    "execution": {
     "iopub.execute_input": "2025-06-08T08:54:36.533277Z",
     "iopub.status.busy": "2025-06-08T08:54:36.531425Z",
     "iopub.status.idle": "2025-06-08T08:54:36.544971Z",
     "shell.execute_reply": "2025-06-08T08:54:36.543309Z",
     "shell.execute_reply.started": "2025-06-08T08:54:36.533206Z"
    }
   },
   "outputs": [
    {
     "data": {
      "text/plain": [
       "Index(['SalesKey', 'DateKey', 'ChannelKey', 'StoreKey', 'ProductKey',\n",
       "       'PromotionKey', 'UnitCost', 'UnitPrice', 'SalesQuantity',\n",
       "       'ReturnQuantity', 'ReturnAmount', 'DiscountQuantity', 'DiscountAmount',\n",
       "       'TotalCost', 'SalesAmount', 'ChannelName', 'PromotionName',\n",
       "       'PromotionType', 'CalendarYear', 'CalendarQuarterLabel',\n",
       "       'CalendarMonthLabel', 'CalendarDayOfWeekLabel', 'MonthNumber',\n",
       "       'CalendarDayOfWeekNumber', 'ProductName', 'ProductSubcategoryKey',\n",
       "       'ProductSubcategoryName', 'ProductCategoryKey', 'ProductCategoryName',\n",
       "       'GeographyKey', 'StoreType', 'StoreName', 'ContinentName',\n",
       "       'CalendarWeekLabel', 'RegionCountryName'],\n",
       "      dtype='object')"
      ]
     },
     "execution_count": 23,
     "metadata": {},
     "output_type": "execute_result"
    }
   ],
   "source": [
    "df_merged.columns"
   ]
  },
  {
   "cell_type": "code",
   "execution_count": 24,
   "id": "9d25c9cb-d6c7-4d44-8f17-b230ac0074d7",
   "metadata": {
    "execution": {
     "iopub.execute_input": "2025-06-08T08:54:41.318877Z",
     "iopub.status.busy": "2025-06-08T08:54:41.317817Z",
     "iopub.status.idle": "2025-06-08T08:54:41.353563Z",
     "shell.execute_reply": "2025-06-08T08:54:41.351791Z",
     "shell.execute_reply.started": "2025-06-08T08:54:41.318839Z"
    }
   },
   "outputs": [
    {
     "data": {
      "text/html": [
       "<div>\n",
       "<style scoped>\n",
       "    .dataframe tbody tr th:only-of-type {\n",
       "        vertical-align: middle;\n",
       "    }\n",
       "\n",
       "    .dataframe tbody tr th {\n",
       "        vertical-align: top;\n",
       "    }\n",
       "\n",
       "    .dataframe thead th {\n",
       "        text-align: right;\n",
       "    }\n",
       "</style>\n",
       "<table border=\"1\" class=\"dataframe\">\n",
       "  <thead>\n",
       "    <tr style=\"text-align: right;\">\n",
       "      <th></th>\n",
       "      <th>SalesKey</th>\n",
       "      <th>DateKey</th>\n",
       "      <th>ChannelKey</th>\n",
       "      <th>StoreKey</th>\n",
       "      <th>ProductKey</th>\n",
       "      <th>PromotionKey</th>\n",
       "      <th>UnitCost</th>\n",
       "      <th>UnitPrice</th>\n",
       "      <th>SalesQuantity</th>\n",
       "      <th>ReturnQuantity</th>\n",
       "      <th>...</th>\n",
       "      <th>ProductSubcategoryKey</th>\n",
       "      <th>ProductSubcategoryName</th>\n",
       "      <th>ProductCategoryKey</th>\n",
       "      <th>ProductCategoryName</th>\n",
       "      <th>GeographyKey</th>\n",
       "      <th>StoreType</th>\n",
       "      <th>StoreName</th>\n",
       "      <th>ContinentName</th>\n",
       "      <th>CalendarWeekLabel</th>\n",
       "      <th>RegionCountryName</th>\n",
       "    </tr>\n",
       "  </thead>\n",
       "  <tbody>\n",
       "    <tr>\n",
       "      <th>0</th>\n",
       "      <td>1</td>\n",
       "      <td>2007-01-02</td>\n",
       "      <td>1</td>\n",
       "      <td>209</td>\n",
       "      <td>956</td>\n",
       "      <td>10</td>\n",
       "      <td>91.05</td>\n",
       "      <td>198.0</td>\n",
       "      <td>8</td>\n",
       "      <td>0</td>\n",
       "      <td>...</td>\n",
       "      <td>23.0</td>\n",
       "      <td>Digital Cameras</td>\n",
       "      <td>4.0</td>\n",
       "      <td>Cameras and camcorders</td>\n",
       "      <td>738</td>\n",
       "      <td>Store</td>\n",
       "      <td>Contoso Baildon Store</td>\n",
       "      <td>Europe</td>\n",
       "      <td>Week 1</td>\n",
       "      <td>United Kingdom</td>\n",
       "    </tr>\n",
       "    <tr>\n",
       "      <th>1</th>\n",
       "      <td>2</td>\n",
       "      <td>2007-02-12</td>\n",
       "      <td>4</td>\n",
       "      <td>308</td>\n",
       "      <td>766</td>\n",
       "      <td>2</td>\n",
       "      <td>10.15</td>\n",
       "      <td>19.9</td>\n",
       "      <td>4</td>\n",
       "      <td>0</td>\n",
       "      <td>...</td>\n",
       "      <td>22.0</td>\n",
       "      <td>Computers Accessories</td>\n",
       "      <td>3.0</td>\n",
       "      <td>Computers</td>\n",
       "      <td>693</td>\n",
       "      <td>Reseller</td>\n",
       "      <td>Contoso North America Reseller</td>\n",
       "      <td>North America</td>\n",
       "      <td>Week 7</td>\n",
       "      <td>United States</td>\n",
       "    </tr>\n",
       "    <tr>\n",
       "      <th>2</th>\n",
       "      <td>3</td>\n",
       "      <td>2008-01-24</td>\n",
       "      <td>1</td>\n",
       "      <td>156</td>\n",
       "      <td>1175</td>\n",
       "      <td>11</td>\n",
       "      <td>209.03</td>\n",
       "      <td>410.0</td>\n",
       "      <td>9</td>\n",
       "      <td>0</td>\n",
       "      <td>...</td>\n",
       "      <td>27.0</td>\n",
       "      <td>Camcorders</td>\n",
       "      <td>4.0</td>\n",
       "      <td>Cameras and camcorders</td>\n",
       "      <td>449</td>\n",
       "      <td>Store</td>\n",
       "      <td>Contoso Cambridge Store</td>\n",
       "      <td>Europe</td>\n",
       "      <td>Week 4</td>\n",
       "      <td>United Kingdom</td>\n",
       "    </tr>\n",
       "    <tr>\n",
       "      <th>3</th>\n",
       "      <td>4</td>\n",
       "      <td>2008-01-13</td>\n",
       "      <td>2</td>\n",
       "      <td>306</td>\n",
       "      <td>1429</td>\n",
       "      <td>10</td>\n",
       "      <td>132.90</td>\n",
       "      <td>289.0</td>\n",
       "      <td>8</td>\n",
       "      <td>0</td>\n",
       "      <td>...</td>\n",
       "      <td>31.0</td>\n",
       "      <td>Touch Screen Phones</td>\n",
       "      <td>5.0</td>\n",
       "      <td>Cell phones</td>\n",
       "      <td>586</td>\n",
       "      <td>Online</td>\n",
       "      <td>Contoso Europe Online Store</td>\n",
       "      <td>Europe</td>\n",
       "      <td>Week 3</td>\n",
       "      <td>Germany</td>\n",
       "    </tr>\n",
       "    <tr>\n",
       "      <th>4</th>\n",
       "      <td>5</td>\n",
       "      <td>2008-01-22</td>\n",
       "      <td>2</td>\n",
       "      <td>306</td>\n",
       "      <td>1133</td>\n",
       "      <td>10</td>\n",
       "      <td>144.52</td>\n",
       "      <td>436.2</td>\n",
       "      <td>24</td>\n",
       "      <td>0</td>\n",
       "      <td>...</td>\n",
       "      <td>24.0</td>\n",
       "      <td>Digital SLR Cameras</td>\n",
       "      <td>4.0</td>\n",
       "      <td>Cameras and camcorders</td>\n",
       "      <td>586</td>\n",
       "      <td>Online</td>\n",
       "      <td>Contoso Europe Online Store</td>\n",
       "      <td>Europe</td>\n",
       "      <td>Week 4</td>\n",
       "      <td>Germany</td>\n",
       "    </tr>\n",
       "  </tbody>\n",
       "</table>\n",
       "<p>5 rows × 35 columns</p>\n",
       "</div>"
      ],
      "text/plain": [
       "   SalesKey     DateKey  ChannelKey  StoreKey  ProductKey  PromotionKey  \\\n",
       "0         1  2007-01-02           1       209         956            10   \n",
       "1         2  2007-02-12           4       308         766             2   \n",
       "2         3  2008-01-24           1       156        1175            11   \n",
       "3         4  2008-01-13           2       306        1429            10   \n",
       "4         5  2008-01-22           2       306        1133            10   \n",
       "\n",
       "   UnitCost  UnitPrice  SalesQuantity  ReturnQuantity  ...  \\\n",
       "0     91.05      198.0              8               0  ...   \n",
       "1     10.15       19.9              4               0  ...   \n",
       "2    209.03      410.0              9               0  ...   \n",
       "3    132.90      289.0              8               0  ...   \n",
       "4    144.52      436.2             24               0  ...   \n",
       "\n",
       "   ProductSubcategoryKey  ProductSubcategoryName  ProductCategoryKey  \\\n",
       "0                   23.0         Digital Cameras                 4.0   \n",
       "1                   22.0   Computers Accessories                 3.0   \n",
       "2                   27.0              Camcorders                 4.0   \n",
       "3                   31.0    Touch Screen Phones                  5.0   \n",
       "4                   24.0     Digital SLR Cameras                 4.0   \n",
       "\n",
       "       ProductCategoryName  GeographyKey StoreType  \\\n",
       "0  Cameras and camcorders            738     Store   \n",
       "1                Computers           693  Reseller   \n",
       "2  Cameras and camcorders            449     Store   \n",
       "3              Cell phones           586    Online   \n",
       "4  Cameras and camcorders            586    Online   \n",
       "\n",
       "                        StoreName  ContinentName  CalendarWeekLabel  \\\n",
       "0           Contoso Baildon Store         Europe             Week 1   \n",
       "1  Contoso North America Reseller  North America             Week 7   \n",
       "2         Contoso Cambridge Store         Europe             Week 4   \n",
       "3     Contoso Europe Online Store         Europe             Week 3   \n",
       "4     Contoso Europe Online Store         Europe             Week 4   \n",
       "\n",
       "  RegionCountryName  \n",
       "0    United Kingdom  \n",
       "1     United States  \n",
       "2    United Kingdom  \n",
       "3           Germany  \n",
       "4           Germany  \n",
       "\n",
       "[5 rows x 35 columns]"
      ]
     },
     "execution_count": 24,
     "metadata": {},
     "output_type": "execute_result"
    }
   ],
   "source": [
    "df_merged.head()"
   ]
  },
  {
   "cell_type": "code",
   "execution_count": 25,
   "id": "376e36e2-9398-448e-883d-bf8fcb8567c2",
   "metadata": {
    "execution": {
     "iopub.execute_input": "2025-06-08T08:55:05.117408Z",
     "iopub.status.busy": "2025-06-08T08:55:05.116369Z",
     "iopub.status.idle": "2025-06-08T08:55:55.590426Z",
     "shell.execute_reply": "2025-06-08T08:55:55.588389Z",
     "shell.execute_reply.started": "2025-06-08T08:55:05.117361Z"
    }
   },
   "outputs": [],
   "source": [
    "df_merged.to_csv(\"data/data_dashboard_final.csv\", index=False)"
   ]
  },
  {
   "cell_type": "code",
   "execution_count": null,
   "id": "55826a18-7cdb-4934-b683-72a8dd25f4a6",
   "metadata": {},
   "outputs": [],
   "source": []
  }
 ],
 "metadata": {
  "kernelspec": {
   "display_name": "Python 3 (ipykernel)",
   "language": "python",
   "name": "python3"
  },
  "language_info": {
   "codemirror_mode": {
    "name": "ipython",
    "version": 3
   },
   "file_extension": ".py",
   "mimetype": "text/x-python",
   "name": "python",
   "nbconvert_exporter": "python",
   "pygments_lexer": "ipython3",
   "version": "3.12.9"
  }
 },
 "nbformat": 4,
 "nbformat_minor": 5
}
