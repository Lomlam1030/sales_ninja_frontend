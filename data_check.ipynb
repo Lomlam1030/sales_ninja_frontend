{
 "cells": [
  {
   "cell_type": "code",
   "execution_count": 25,
   "id": "533468cb-c081-4ab9-b41a-fe2b79c652e9",
   "metadata": {
    "execution": {
     "iopub.execute_input": "2025-06-07T15:18:04.906038Z",
     "iopub.status.busy": "2025-06-07T15:18:04.899765Z",
     "iopub.status.idle": "2025-06-07T15:18:23.000782Z",
     "shell.execute_reply": "2025-06-07T15:18:22.998505Z",
     "shell.execute_reply.started": "2025-06-07T15:18:04.905800Z"
    }
   },
   "outputs": [
    {
     "name": "stdout",
     "output_type": "stream",
     "text": [
      "Index([], dtype='object')\n"
     ]
    }
   ],
   "source": [
    "import pandas as pd\n",
    "\n",
    "df = pd.read_csv(\"data/data_dashboard_final.csv\")\n",
    "print(df.columns[df.columns.duplicated()])"
   ]
  },
  {
   "cell_type": "code",
   "execution_count": 26,
   "id": "43b55b6b-1bec-4822-98fa-002b2b09ec05",
   "metadata": {
    "execution": {
     "iopub.execute_input": "2025-06-07T15:18:44.323673Z",
     "iopub.status.busy": "2025-06-07T15:18:44.323304Z",
     "iopub.status.idle": "2025-06-07T15:18:44.385448Z",
     "shell.execute_reply": "2025-06-07T15:18:44.384162Z",
     "shell.execute_reply.started": "2025-06-07T15:18:44.323648Z"
    }
   },
   "outputs": [
    {
     "data": {
      "text/html": [
       "<div>\n",
       "<style scoped>\n",
       "    .dataframe tbody tr th:only-of-type {\n",
       "        vertical-align: middle;\n",
       "    }\n",
       "\n",
       "    .dataframe tbody tr th {\n",
       "        vertical-align: top;\n",
       "    }\n",
       "\n",
       "    .dataframe thead th {\n",
       "        text-align: right;\n",
       "    }\n",
       "</style>\n",
       "<table border=\"1\" class=\"dataframe\">\n",
       "  <thead>\n",
       "    <tr style=\"text-align: right;\">\n",
       "      <th></th>\n",
       "      <th>SalesKey</th>\n",
       "      <th>DateKey</th>\n",
       "      <th>ChannelKey</th>\n",
       "      <th>StoreKey</th>\n",
       "      <th>ProductKey</th>\n",
       "      <th>PromotionKey</th>\n",
       "      <th>UnitCost</th>\n",
       "      <th>UnitPrice</th>\n",
       "      <th>SalesQuantity</th>\n",
       "      <th>ReturnQuantity</th>\n",
       "      <th>...</th>\n",
       "      <th>ProductCategoryKey</th>\n",
       "      <th>ProductCategoryName</th>\n",
       "      <th>GeographyKey</th>\n",
       "      <th>StoreType</th>\n",
       "      <th>StoreName</th>\n",
       "      <th>GeographyType</th>\n",
       "      <th>ContinentName</th>\n",
       "      <th>CityName</th>\n",
       "      <th>StateProvinceName</th>\n",
       "      <th>RegionCountryName</th>\n",
       "    </tr>\n",
       "  </thead>\n",
       "  <tbody>\n",
       "    <tr>\n",
       "      <th>0</th>\n",
       "      <td>1</td>\n",
       "      <td>2007-01-02</td>\n",
       "      <td>1</td>\n",
       "      <td>209</td>\n",
       "      <td>956</td>\n",
       "      <td>10</td>\n",
       "      <td>91.05</td>\n",
       "      <td>198.0</td>\n",
       "      <td>8</td>\n",
       "      <td>0</td>\n",
       "      <td>...</td>\n",
       "      <td>4.0</td>\n",
       "      <td>Cameras and camcorders</td>\n",
       "      <td>738</td>\n",
       "      <td>Store</td>\n",
       "      <td>Contoso Baildon Store</td>\n",
       "      <td>City</td>\n",
       "      <td>Europe</td>\n",
       "      <td>Baildon</td>\n",
       "      <td>England</td>\n",
       "      <td>United Kingdom</td>\n",
       "    </tr>\n",
       "    <tr>\n",
       "      <th>1</th>\n",
       "      <td>2</td>\n",
       "      <td>2007-02-12</td>\n",
       "      <td>4</td>\n",
       "      <td>308</td>\n",
       "      <td>766</td>\n",
       "      <td>2</td>\n",
       "      <td>10.15</td>\n",
       "      <td>19.9</td>\n",
       "      <td>4</td>\n",
       "      <td>0</td>\n",
       "      <td>...</td>\n",
       "      <td>3.0</td>\n",
       "      <td>Computers</td>\n",
       "      <td>693</td>\n",
       "      <td>Reseller</td>\n",
       "      <td>Contoso North America Reseller</td>\n",
       "      <td>City</td>\n",
       "      <td>North America</td>\n",
       "      <td>Seattle</td>\n",
       "      <td>Washington</td>\n",
       "      <td>United States</td>\n",
       "    </tr>\n",
       "    <tr>\n",
       "      <th>2</th>\n",
       "      <td>3</td>\n",
       "      <td>2008-01-24</td>\n",
       "      <td>1</td>\n",
       "      <td>156</td>\n",
       "      <td>1175</td>\n",
       "      <td>11</td>\n",
       "      <td>209.03</td>\n",
       "      <td>410.0</td>\n",
       "      <td>9</td>\n",
       "      <td>0</td>\n",
       "      <td>...</td>\n",
       "      <td>4.0</td>\n",
       "      <td>Cameras and camcorders</td>\n",
       "      <td>449</td>\n",
       "      <td>Store</td>\n",
       "      <td>Contoso Cambridge Store</td>\n",
       "      <td>City</td>\n",
       "      <td>Europe</td>\n",
       "      <td>Cambridge</td>\n",
       "      <td>England</td>\n",
       "      <td>United Kingdom</td>\n",
       "    </tr>\n",
       "    <tr>\n",
       "      <th>3</th>\n",
       "      <td>4</td>\n",
       "      <td>2008-01-13</td>\n",
       "      <td>2</td>\n",
       "      <td>306</td>\n",
       "      <td>1429</td>\n",
       "      <td>10</td>\n",
       "      <td>132.90</td>\n",
       "      <td>289.0</td>\n",
       "      <td>8</td>\n",
       "      <td>0</td>\n",
       "      <td>...</td>\n",
       "      <td>5.0</td>\n",
       "      <td>Cell phones</td>\n",
       "      <td>586</td>\n",
       "      <td>Online</td>\n",
       "      <td>Contoso Europe Online Store</td>\n",
       "      <td>City</td>\n",
       "      <td>Europe</td>\n",
       "      <td>Berlin</td>\n",
       "      <td>Berlin</td>\n",
       "      <td>Germany</td>\n",
       "    </tr>\n",
       "    <tr>\n",
       "      <th>4</th>\n",
       "      <td>5</td>\n",
       "      <td>2008-01-22</td>\n",
       "      <td>2</td>\n",
       "      <td>306</td>\n",
       "      <td>1133</td>\n",
       "      <td>10</td>\n",
       "      <td>144.52</td>\n",
       "      <td>436.2</td>\n",
       "      <td>24</td>\n",
       "      <td>0</td>\n",
       "      <td>...</td>\n",
       "      <td>4.0</td>\n",
       "      <td>Cameras and camcorders</td>\n",
       "      <td>586</td>\n",
       "      <td>Online</td>\n",
       "      <td>Contoso Europe Online Store</td>\n",
       "      <td>City</td>\n",
       "      <td>Europe</td>\n",
       "      <td>Berlin</td>\n",
       "      <td>Berlin</td>\n",
       "      <td>Germany</td>\n",
       "    </tr>\n",
       "  </tbody>\n",
       "</table>\n",
       "<p>5 rows × 37 columns</p>\n",
       "</div>"
      ],
      "text/plain": [
       "   SalesKey     DateKey  ChannelKey  StoreKey  ProductKey  PromotionKey  \\\n",
       "0         1  2007-01-02           1       209         956            10   \n",
       "1         2  2007-02-12           4       308         766             2   \n",
       "2         3  2008-01-24           1       156        1175            11   \n",
       "3         4  2008-01-13           2       306        1429            10   \n",
       "4         5  2008-01-22           2       306        1133            10   \n",
       "\n",
       "   UnitCost  UnitPrice  SalesQuantity  ReturnQuantity  ...  \\\n",
       "0     91.05      198.0              8               0  ...   \n",
       "1     10.15       19.9              4               0  ...   \n",
       "2    209.03      410.0              9               0  ...   \n",
       "3    132.90      289.0              8               0  ...   \n",
       "4    144.52      436.2             24               0  ...   \n",
       "\n",
       "   ProductCategoryKey      ProductCategoryName  GeographyKey  StoreType  \\\n",
       "0                 4.0  Cameras and camcorders            738      Store   \n",
       "1                 3.0                Computers           693   Reseller   \n",
       "2                 4.0  Cameras and camcorders            449      Store   \n",
       "3                 5.0              Cell phones           586     Online   \n",
       "4                 4.0  Cameras and camcorders            586     Online   \n",
       "\n",
       "                        StoreName GeographyType  ContinentName   CityName  \\\n",
       "0           Contoso Baildon Store          City         Europe    Baildon   \n",
       "1  Contoso North America Reseller          City  North America    Seattle   \n",
       "2         Contoso Cambridge Store          City         Europe  Cambridge   \n",
       "3     Contoso Europe Online Store          City         Europe     Berlin   \n",
       "4     Contoso Europe Online Store          City         Europe     Berlin   \n",
       "\n",
       "   StateProvinceName RegionCountryName  \n",
       "0           England     United Kingdom  \n",
       "1         Washington     United States  \n",
       "2            England    United Kingdom  \n",
       "3             Berlin           Germany  \n",
       "4             Berlin           Germany  \n",
       "\n",
       "[5 rows x 37 columns]"
      ]
     },
     "execution_count": 26,
     "metadata": {},
     "output_type": "execute_result"
    }
   ],
   "source": [
    "df.head()\n"
   ]
  },
  {
   "cell_type": "code",
   "execution_count": 27,
   "id": "94f7762b-1851-4fa2-a950-970161d5ddc5",
   "metadata": {
    "execution": {
     "iopub.execute_input": "2025-06-07T15:19:45.911785Z",
     "iopub.status.busy": "2025-06-07T15:19:45.909589Z",
     "iopub.status.idle": "2025-06-07T15:19:45.933876Z",
     "shell.execute_reply": "2025-06-07T15:19:45.932332Z",
     "shell.execute_reply.started": "2025-06-07T15:19:45.911745Z"
    }
   },
   "outputs": [
    {
     "name": "stdout",
     "output_type": "stream",
     "text": [
      "Index([], dtype='object')\n"
     ]
    }
   ],
   "source": [
    "print(df.columns[df.columns.duplicated()])\n"
   ]
  },
  {
   "cell_type": "code",
   "execution_count": 28,
   "id": "e0d7133f-7d69-4154-ad6f-3f9604275147",
   "metadata": {
    "execution": {
     "iopub.execute_input": "2025-06-07T15:19:48.337448Z",
     "iopub.status.busy": "2025-06-07T15:19:48.337045Z",
     "iopub.status.idle": "2025-06-07T15:19:48.348483Z",
     "shell.execute_reply": "2025-06-07T15:19:48.347572Z",
     "shell.execute_reply.started": "2025-06-07T15:19:48.337428Z"
    }
   },
   "outputs": [
    {
     "data": {
      "text/plain": [
       "Index(['SalesKey', 'DateKey', 'ChannelKey', 'StoreKey', 'ProductKey',\n",
       "       'PromotionKey', 'UnitCost', 'UnitPrice', 'SalesQuantity',\n",
       "       'ReturnQuantity', 'ReturnAmount', 'DiscountQuantity', 'DiscountAmount',\n",
       "       'TotalCost', 'SalesAmount', 'ChannelName', 'PromotionName',\n",
       "       'PromotionType', 'CalendarYear', 'CalendarQuarterLabel',\n",
       "       'CalendarMonthLabel', 'CalendarDayOfWeekLabel', 'MonthNumber',\n",
       "       'CalendarDayOfWeekNumber', 'ProductName', 'ProductSubcategoryKey',\n",
       "       'ProductSubcategoryName', 'ProductCategoryKey', 'ProductCategoryName',\n",
       "       'GeographyKey', 'StoreType', 'StoreName', 'GeographyType',\n",
       "       'ContinentName', 'CityName', 'StateProvinceName', 'RegionCountryName'],\n",
       "      dtype='object')"
      ]
     },
     "execution_count": 28,
     "metadata": {},
     "output_type": "execute_result"
    }
   ],
   "source": [
    "df.columns"
   ]
  },
  {
   "cell_type": "code",
   "execution_count": 29,
   "id": "1e5616b1-73b9-4d26-a434-883d4fe8f8c8",
   "metadata": {
    "execution": {
     "iopub.execute_input": "2025-06-07T15:20:15.329466Z",
     "iopub.status.busy": "2025-06-07T15:20:15.329080Z",
     "iopub.status.idle": "2025-06-07T15:20:28.904170Z",
     "shell.execute_reply": "2025-06-07T15:20:28.903080Z",
     "shell.execute_reply.started": "2025-06-07T15:20:15.329447Z"
    }
   },
   "outputs": [
    {
     "data": {
      "text/plain": [
       "Index(['SalesKey', 'DateKey', 'ChannelKey', 'StoreKey', 'ProductKey',\n",
       "       'PromotionKey', 'UnitCost', 'UnitPrice', 'SalesQuantity',\n",
       "       'ReturnQuantity', 'ReturnAmount', 'DiscountQuantity', 'DiscountAmount',\n",
       "       'TotalCost', 'SalesAmount', 'ChannelName', 'PromotionName',\n",
       "       'PromotionType', 'CalendarYear', 'CalendarQuarterLabel',\n",
       "       'CalendarMonthLabel', 'CalendarDayOfWeekLabel', 'MonthNumber',\n",
       "       'CalendarDayOfWeekNumber', 'ProductName', 'ProductSubcategoryKey',\n",
       "       'ProductSubcategoryName', 'ProductCategoryKey', 'ProductCategoryName',\n",
       "       'GeographyKey', 'StoreType', 'StoreName', 'ContinentName'],\n",
       "      dtype='object')"
      ]
     },
     "execution_count": 29,
     "metadata": {},
     "output_type": "execute_result"
    }
   ],
   "source": [
    "df_cleaned = pd.read_csv(\"data/data_dashboard_merged_cleaned.csv\")\n",
    "df_cleaned.columns"
   ]
  },
  {
   "cell_type": "code",
   "execution_count": 31,
   "id": "8d945fa0-bada-415f-b1ec-c4c92a9f2f9c",
   "metadata": {
    "execution": {
     "iopub.execute_input": "2025-06-07T15:32:21.449517Z",
     "iopub.status.busy": "2025-06-07T15:32:21.448999Z",
     "iopub.status.idle": "2025-06-07T15:32:21.473039Z",
     "shell.execute_reply": "2025-06-07T15:32:21.471692Z",
     "shell.execute_reply.started": "2025-06-07T15:32:21.449498Z"
    }
   },
   "outputs": [],
   "source": [
    "df_date = pd.read_csv(\"data/DimDate.csv\") "
   ]
  },
  {
   "cell_type": "code",
   "execution_count": 32,
   "id": "03f39406-2836-43cc-a5e9-61763df3a4cf",
   "metadata": {
    "execution": {
     "iopub.execute_input": "2025-06-07T15:32:50.179480Z",
     "iopub.status.busy": "2025-06-07T15:32:50.178835Z",
     "iopub.status.idle": "2025-06-07T15:32:50.186724Z",
     "shell.execute_reply": "2025-06-07T15:32:50.185455Z",
     "shell.execute_reply.started": "2025-06-07T15:32:50.179456Z"
    }
   },
   "outputs": [
    {
     "data": {
      "text/plain": [
       "Index(['DateKey', 'CalendarYear', 'CalendarYearLabel', 'CalendarHalfYearLabel',\n",
       "       'CalendarQuarterLabel', 'CalendarMonthLabel', 'CalendarWeekLabel',\n",
       "       'CalendarDayOfWeekLabel', 'FiscalYear', 'FiscalYearLabel',\n",
       "       'FiscalHalfYearLabel', 'FiscalQuarterLabel', 'FiscalMonthLabel',\n",
       "       'IsWorkDay', 'IsHoliday', 'EuropeSeason', 'NorthAmericaSeason',\n",
       "       'AsiaSeason', 'MonthNumber', 'CalendarDayOfWeekNumber'],\n",
       "      dtype='object')"
      ]
     },
     "execution_count": 32,
     "metadata": {},
     "output_type": "execute_result"
    }
   ],
   "source": [
    "df_date.columns"
   ]
  },
  {
   "cell_type": "code",
   "execution_count": 33,
   "id": "37a6f0cb-c515-40d4-b75e-20af0d6803ec",
   "metadata": {
    "execution": {
     "iopub.execute_input": "2025-06-07T15:37:51.395471Z",
     "iopub.status.busy": "2025-06-07T15:37:51.394671Z",
     "iopub.status.idle": "2025-06-07T15:37:56.835562Z",
     "shell.execute_reply": "2025-06-07T15:37:56.833995Z",
     "shell.execute_reply.started": "2025-06-07T15:37:51.395446Z"
    }
   },
   "outputs": [],
   "source": [
    "df_merged = pd.merge(\n",
    "    df_cleaned,\n",
    "    df_date[['DateKey', 'CalendarWeekLabel']],  # only take what you need\n",
    "    on='DateKey',\n",
    "    how='left'  # use left join to keep all sales rows\n",
    ")"
   ]
  },
  {
   "cell_type": "code",
   "execution_count": 34,
   "id": "a893ddb9-82c6-4d1b-baf6-124e58f5d93f",
   "metadata": {
    "execution": {
     "iopub.execute_input": "2025-06-07T15:38:04.424270Z",
     "iopub.status.busy": "2025-06-07T15:38:04.423805Z",
     "iopub.status.idle": "2025-06-07T15:38:04.435604Z",
     "shell.execute_reply": "2025-06-07T15:38:04.434625Z",
     "shell.execute_reply.started": "2025-06-07T15:38:04.424245Z"
    }
   },
   "outputs": [
    {
     "data": {
      "text/plain": [
       "Index(['SalesKey', 'DateKey', 'ChannelKey', 'StoreKey', 'ProductKey',\n",
       "       'PromotionKey', 'UnitCost', 'UnitPrice', 'SalesQuantity',\n",
       "       'ReturnQuantity', 'ReturnAmount', 'DiscountQuantity', 'DiscountAmount',\n",
       "       'TotalCost', 'SalesAmount', 'ChannelName', 'PromotionName',\n",
       "       'PromotionType', 'CalendarYear', 'CalendarQuarterLabel',\n",
       "       'CalendarMonthLabel', 'CalendarDayOfWeekLabel', 'MonthNumber',\n",
       "       'CalendarDayOfWeekNumber', 'ProductName', 'ProductSubcategoryKey',\n",
       "       'ProductSubcategoryName', 'ProductCategoryKey', 'ProductCategoryName',\n",
       "       'GeographyKey', 'StoreType', 'StoreName', 'ContinentName',\n",
       "       'CalendarWeekLabel'],\n",
       "      dtype='object')"
      ]
     },
     "execution_count": 34,
     "metadata": {},
     "output_type": "execute_result"
    }
   ],
   "source": [
    "df_merged.columns"
   ]
  },
  {
   "cell_type": "code",
   "execution_count": 36,
   "id": "9d25c9cb-d6c7-4d44-8f17-b230ac0074d7",
   "metadata": {
    "execution": {
     "iopub.execute_input": "2025-06-07T15:39:13.876767Z",
     "iopub.status.busy": "2025-06-07T15:39:13.876298Z",
     "iopub.status.idle": "2025-06-07T15:39:13.896590Z",
     "shell.execute_reply": "2025-06-07T15:39:13.895316Z",
     "shell.execute_reply.started": "2025-06-07T15:39:13.876730Z"
    }
   },
   "outputs": [
    {
     "data": {
      "text/html": [
       "<div>\n",
       "<style scoped>\n",
       "    .dataframe tbody tr th:only-of-type {\n",
       "        vertical-align: middle;\n",
       "    }\n",
       "\n",
       "    .dataframe tbody tr th {\n",
       "        vertical-align: top;\n",
       "    }\n",
       "\n",
       "    .dataframe thead th {\n",
       "        text-align: right;\n",
       "    }\n",
       "</style>\n",
       "<table border=\"1\" class=\"dataframe\">\n",
       "  <thead>\n",
       "    <tr style=\"text-align: right;\">\n",
       "      <th></th>\n",
       "      <th>SalesKey</th>\n",
       "      <th>DateKey</th>\n",
       "      <th>ChannelKey</th>\n",
       "      <th>StoreKey</th>\n",
       "      <th>ProductKey</th>\n",
       "      <th>PromotionKey</th>\n",
       "      <th>UnitCost</th>\n",
       "      <th>UnitPrice</th>\n",
       "      <th>SalesQuantity</th>\n",
       "      <th>ReturnQuantity</th>\n",
       "      <th>...</th>\n",
       "      <th>ProductName</th>\n",
       "      <th>ProductSubcategoryKey</th>\n",
       "      <th>ProductSubcategoryName</th>\n",
       "      <th>ProductCategoryKey</th>\n",
       "      <th>ProductCategoryName</th>\n",
       "      <th>GeographyKey</th>\n",
       "      <th>StoreType</th>\n",
       "      <th>StoreName</th>\n",
       "      <th>ContinentName</th>\n",
       "      <th>CalendarWeekLabel</th>\n",
       "    </tr>\n",
       "  </thead>\n",
       "  <tbody>\n",
       "    <tr>\n",
       "      <th>0</th>\n",
       "      <td>1</td>\n",
       "      <td>2007-01-02</td>\n",
       "      <td>1</td>\n",
       "      <td>209</td>\n",
       "      <td>956</td>\n",
       "      <td>10</td>\n",
       "      <td>91.05</td>\n",
       "      <td>198.0</td>\n",
       "      <td>8</td>\n",
       "      <td>0</td>\n",
       "      <td>...</td>\n",
       "      <td>A. Datum Point Shoot Digital Camera M500 Black</td>\n",
       "      <td>23.0</td>\n",
       "      <td>Digital Cameras</td>\n",
       "      <td>4.0</td>\n",
       "      <td>Cameras and camcorders</td>\n",
       "      <td>738</td>\n",
       "      <td>Store</td>\n",
       "      <td>Contoso Baildon Store</td>\n",
       "      <td>Europe</td>\n",
       "      <td>Week 1</td>\n",
       "    </tr>\n",
       "    <tr>\n",
       "      <th>1</th>\n",
       "      <td>2</td>\n",
       "      <td>2007-02-12</td>\n",
       "      <td>4</td>\n",
       "      <td>308</td>\n",
       "      <td>766</td>\n",
       "      <td>2</td>\n",
       "      <td>10.15</td>\n",
       "      <td>19.9</td>\n",
       "      <td>4</td>\n",
       "      <td>0</td>\n",
       "      <td>...</td>\n",
       "      <td>Contoso Battery charger - bike E200 Black</td>\n",
       "      <td>22.0</td>\n",
       "      <td>Computers Accessories</td>\n",
       "      <td>3.0</td>\n",
       "      <td>Computers</td>\n",
       "      <td>693</td>\n",
       "      <td>Reseller</td>\n",
       "      <td>Contoso North America Reseller</td>\n",
       "      <td>North America</td>\n",
       "      <td>Week 7</td>\n",
       "    </tr>\n",
       "    <tr>\n",
       "      <th>2</th>\n",
       "      <td>3</td>\n",
       "      <td>2008-01-24</td>\n",
       "      <td>1</td>\n",
       "      <td>156</td>\n",
       "      <td>1175</td>\n",
       "      <td>11</td>\n",
       "      <td>209.03</td>\n",
       "      <td>410.0</td>\n",
       "      <td>9</td>\n",
       "      <td>0</td>\n",
       "      <td>...</td>\n",
       "      <td>Fabrikam Budget Moviemaker 2/3'' 17mm E100 White</td>\n",
       "      <td>27.0</td>\n",
       "      <td>Camcorders</td>\n",
       "      <td>4.0</td>\n",
       "      <td>Cameras and camcorders</td>\n",
       "      <td>449</td>\n",
       "      <td>Store</td>\n",
       "      <td>Contoso Cambridge Store</td>\n",
       "      <td>Europe</td>\n",
       "      <td>Week 4</td>\n",
       "    </tr>\n",
       "    <tr>\n",
       "      <th>3</th>\n",
       "      <td>4</td>\n",
       "      <td>2008-01-13</td>\n",
       "      <td>2</td>\n",
       "      <td>306</td>\n",
       "      <td>1429</td>\n",
       "      <td>10</td>\n",
       "      <td>132.90</td>\n",
       "      <td>289.0</td>\n",
       "      <td>8</td>\n",
       "      <td>0</td>\n",
       "      <td>...</td>\n",
       "      <td>The Phone Company Touch Screen Phones 4-Wire/O...</td>\n",
       "      <td>31.0</td>\n",
       "      <td>Touch Screen Phones</td>\n",
       "      <td>5.0</td>\n",
       "      <td>Cell phones</td>\n",
       "      <td>586</td>\n",
       "      <td>Online</td>\n",
       "      <td>Contoso Europe Online Store</td>\n",
       "      <td>Europe</td>\n",
       "      <td>Week 3</td>\n",
       "    </tr>\n",
       "    <tr>\n",
       "      <th>4</th>\n",
       "      <td>5</td>\n",
       "      <td>2008-01-22</td>\n",
       "      <td>2</td>\n",
       "      <td>306</td>\n",
       "      <td>1133</td>\n",
       "      <td>10</td>\n",
       "      <td>144.52</td>\n",
       "      <td>436.2</td>\n",
       "      <td>24</td>\n",
       "      <td>0</td>\n",
       "      <td>...</td>\n",
       "      <td>Fabrikam SLR Camera 35\" X358 Blue</td>\n",
       "      <td>24.0</td>\n",
       "      <td>Digital SLR Cameras</td>\n",
       "      <td>4.0</td>\n",
       "      <td>Cameras and camcorders</td>\n",
       "      <td>586</td>\n",
       "      <td>Online</td>\n",
       "      <td>Contoso Europe Online Store</td>\n",
       "      <td>Europe</td>\n",
       "      <td>Week 4</td>\n",
       "    </tr>\n",
       "  </tbody>\n",
       "</table>\n",
       "<p>5 rows × 34 columns</p>\n",
       "</div>"
      ],
      "text/plain": [
       "   SalesKey     DateKey  ChannelKey  StoreKey  ProductKey  PromotionKey  \\\n",
       "0         1  2007-01-02           1       209         956            10   \n",
       "1         2  2007-02-12           4       308         766             2   \n",
       "2         3  2008-01-24           1       156        1175            11   \n",
       "3         4  2008-01-13           2       306        1429            10   \n",
       "4         5  2008-01-22           2       306        1133            10   \n",
       "\n",
       "   UnitCost  UnitPrice  SalesQuantity  ReturnQuantity  ...  \\\n",
       "0     91.05      198.0              8               0  ...   \n",
       "1     10.15       19.9              4               0  ...   \n",
       "2    209.03      410.0              9               0  ...   \n",
       "3    132.90      289.0              8               0  ...   \n",
       "4    144.52      436.2             24               0  ...   \n",
       "\n",
       "                                         ProductName  ProductSubcategoryKey  \\\n",
       "0     A. Datum Point Shoot Digital Camera M500 Black                   23.0   \n",
       "1          Contoso Battery charger - bike E200 Black                   22.0   \n",
       "2   Fabrikam Budget Moviemaker 2/3'' 17mm E100 White                   27.0   \n",
       "3  The Phone Company Touch Screen Phones 4-Wire/O...                   31.0   \n",
       "4                  Fabrikam SLR Camera 35\" X358 Blue                   24.0   \n",
       "\n",
       "   ProductSubcategoryName  ProductCategoryKey      ProductCategoryName  \\\n",
       "0         Digital Cameras                 4.0  Cameras and camcorders    \n",
       "1   Computers Accessories                 3.0                Computers   \n",
       "2              Camcorders                 4.0  Cameras and camcorders    \n",
       "3    Touch Screen Phones                  5.0              Cell phones   \n",
       "4     Digital SLR Cameras                 4.0  Cameras and camcorders    \n",
       "\n",
       "  GeographyKey StoreType                       StoreName  ContinentName  \\\n",
       "0          738     Store           Contoso Baildon Store         Europe   \n",
       "1          693  Reseller  Contoso North America Reseller  North America   \n",
       "2          449     Store         Contoso Cambridge Store         Europe   \n",
       "3          586    Online     Contoso Europe Online Store         Europe   \n",
       "4          586    Online     Contoso Europe Online Store         Europe   \n",
       "\n",
       "  CalendarWeekLabel  \n",
       "0            Week 1  \n",
       "1            Week 7  \n",
       "2            Week 4  \n",
       "3            Week 3  \n",
       "4            Week 4  \n",
       "\n",
       "[5 rows x 34 columns]"
      ]
     },
     "execution_count": 36,
     "metadata": {},
     "output_type": "execute_result"
    }
   ],
   "source": [
    "df_merged.head()"
   ]
  },
  {
   "cell_type": "code",
   "execution_count": 37,
   "id": "376e36e2-9398-448e-883d-bf8fcb8567c2",
   "metadata": {
    "execution": {
     "iopub.execute_input": "2025-06-07T15:39:17.942533Z",
     "iopub.status.busy": "2025-06-07T15:39:17.941743Z",
     "iopub.status.idle": "2025-06-07T15:39:57.199290Z",
     "shell.execute_reply": "2025-06-07T15:39:57.198380Z",
     "shell.execute_reply.started": "2025-06-07T15:39:17.942495Z"
    }
   },
   "outputs": [],
   "source": [
    "df_merged.to_csv(\"data/data_dashboard_final.csv\", index=False)"
   ]
  },
  {
   "cell_type": "code",
   "execution_count": null,
   "id": "55826a18-7cdb-4934-b683-72a8dd25f4a6",
   "metadata": {},
   "outputs": [],
   "source": []
  }
 ],
 "metadata": {
  "kernelspec": {
   "display_name": "Python 3 (ipykernel)",
   "language": "python",
   "name": "python3"
  },
  "language_info": {
   "codemirror_mode": {
    "name": "ipython",
    "version": 3
   },
   "file_extension": ".py",
   "mimetype": "text/x-python",
   "name": "python",
   "nbconvert_exporter": "python",
   "pygments_lexer": "ipython3",
   "version": "3.12.9"
  }
 },
 "nbformat": 4,
 "nbformat_minor": 5
}
